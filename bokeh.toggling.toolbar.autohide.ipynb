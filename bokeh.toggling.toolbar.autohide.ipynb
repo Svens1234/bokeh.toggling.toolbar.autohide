{
 "cells": [
  {
   "cell_type": "code",
   "execution_count": 1,
   "id": "4c2b6034",
   "metadata": {},
   "outputs": [],
   "source": [
    "from bokeh.plotting import figure, output_file, show"
   ]
  },
  {
   "cell_type": "code",
   "execution_count": 2,
   "id": "3c149072",
   "metadata": {},
   "outputs": [],
   "source": [
    "output_file(\"styling_toolbar_autohide.html\")"
   ]
  },
  {
   "cell_type": "code",
   "execution_count": 5,
   "id": "19facc8c",
   "metadata": {},
   "outputs": [],
   "source": [
    "# настройка основного графика\n",
    "plot = figure(width=400, height=400, title='Toolbar Autohide')\n",
    "plot.line([1,2,3,4,5], [2,5,8,2,7])\n",
    "\n",
    "# Установить для автоматического скрытия значение true, чтобы панель инструментов отображалась только тогда, \n",
    "# когда мышь находится над графиком.\n",
    "plot.toolbar.autohide = True"
   ]
  },
  {
   "cell_type": "code",
   "execution_count": 6,
   "id": "92dfa80e",
   "metadata": {},
   "outputs": [],
   "source": [
    "show(plot)"
   ]
  },
  {
   "cell_type": "code",
   "execution_count": null,
   "id": "205ebbba",
   "metadata": {},
   "outputs": [],
   "source": []
  }
 ],
 "metadata": {
  "kernelspec": {
   "display_name": "Python 3 (ipykernel)",
   "language": "python",
   "name": "python3"
  },
  "language_info": {
   "codemirror_mode": {
    "name": "ipython",
    "version": 3
   },
   "file_extension": ".py",
   "mimetype": "text/x-python",
   "name": "python",
   "nbconvert_exporter": "python",
   "pygments_lexer": "ipython3",
   "version": "3.10.5"
  }
 },
 "nbformat": 4,
 "nbformat_minor": 5
}
